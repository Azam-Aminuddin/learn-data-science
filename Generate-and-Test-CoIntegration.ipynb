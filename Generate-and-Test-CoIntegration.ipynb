{
 "cells": [
  {
   "cell_type": "markdown",
   "metadata": {},
   "source": [
    "# CoIntegration\n",
    "\n",
    "A Simple CoIntegration is a stationary relationship between two non-stationary processes, one is the leader and the other is the follower.\n",
    "\n",
    "![CoInt](CoInt.png)\n",
    "\n",
    "I copied some codes from [BennyLP's Stationarity](https://github.com/bennylp/Study/blob/master/Introduction%20to%20Time%20Series%20Analysis%20with%20Python/Stationarity.ipynb)\n",
    "\n",
    "### References\n",
    "- https://en.wikipedia.org/wiki/Cointegration"
   ]
  },
  {
   "cell_type": "code",
   "execution_count": 1,
   "metadata": {},
   "outputs": [],
   "source": [
    "import warnings\n",
    "\n",
    "import pandas as pd\n",
    "import numpy as np\n",
    "from statsmodels.tsa.stattools import coint, adfuller\n",
    "\n",
    "N = 200\n",
    "WSCALE = 0.001\n",
    "MAXLAGS = 100\n",
    "\n",
    "ADFULLER_CRIT = 0.01\n",
    "COINT_THRESHOLD = 0.05"
   ]
  },
  {
   "cell_type": "markdown",
   "metadata": {},
   "source": [
    "## The Non-Stationary is a Line"
   ]
  },
  {
   "cell_type": "code",
   "execution_count": 2,
   "metadata": {},
   "outputs": [],
   "source": [
    "def generateCoIntegration( nonStationary, wscale, multiplier ):\n",
    "    \"\"\"Generate a new signal which cointegrates with @nonStationary.\n",
    "    \"\"\"\n",
    "    white_noise = np.random.normal(scale=wscale, size=len( nonStationary ))\n",
    "    return white_noise + nonStationary * multiplier, white_noise\n",
    "\n",
    "\n",
    "def negativeTests( test_count, generateNonStationary1, generateNonStationary2, **nonStationaryKwargs ):\n",
    "    \"\"\"We expect @generateNonStationary1 and @generateNonStationary2 are both stationary and not being cointegrated.\n",
    "    \"\"\"\n",
    "    test_coint = 0\n",
    "    stationary_count = 0\n",
    "    negative = 0\n",
    "    for _ in range( 0, test_count):\n",
    "        nonStationary_one = generateNonStationary1( wscale=2, **nonStationaryKwargs )\n",
    "        nonStationary_two = generateNonStationary2( wscale=3, **nonStationaryKwargs )\n",
    "\n",
    "        do_coint = True\n",
    "        adres = adfuller( nonStationary_one )\n",
    "        if adres[1] < ADFULLER_CRIT: \n",
    "            stationary_count += 1\n",
    "            do_coint = False\n",
    "        adres = adfuller( nonStationary_two )\n",
    "        if adres[1] < ADFULLER_CRIT: \n",
    "            stationary_count += 1\n",
    "            do_coint = False\n",
    "\n",
    "        if do_coint:\n",
    "            with warnings.catch_warnings():\n",
    "                warnings.simplefilter(\"ignore\")\n",
    "                \n",
    "                t, pval, crits = coint( nonStationary_one, nonStationary_two )\n",
    "                if pval >= COINT_THRESHOLD:\n",
    "                    negative += 1\n",
    "                test_coint += 1\n",
    "                \n",
    "    # ----- result -----\n",
    "    print( \"Stationary Count: \", stationary_count )\n",
    "    print( \"Negative Rate: %d/%d (%.2f %%)\" % ( negative, test_coint, negative * 100. / test_coint ) )\n",
    "    \n",
    "    return negative, test_coint, stationary_count\n",
    "\n",
    "            \n",
    "def positiveTests( test_count, generateNonStationary, **nonStationaryKwargs  ):\n",
    "    \"\"\"Generate a new signal which cointegrates with signal from @generateNonStationary. \n",
    "    We expect both signals indeed cointegrate.\n",
    "    \"\"\"\n",
    "    test_coint = 0\n",
    "    stationary_count = 0\n",
    "    positive = 0\n",
    "\n",
    "    for _ in range( 0, test_count ):\n",
    "        nonStationary_one = generateNonStationary( wscale=2, **nonStationaryKwargs )\n",
    "        nonStationary_two, white_noise = generateCoIntegration( nonStationary_one, wscale=5, multiplier=2 )\n",
    "\n",
    "        do_coint = True\n",
    "        adres = adfuller( nonStationary_one )\n",
    "        if adres[1] < ADFULLER_CRIT: \n",
    "            stationary_count += 1\n",
    "            do_coint = False\n",
    "        adres = adfuller( nonStationary_two )\n",
    "        if adres[1] < ADFULLER_CRIT: \n",
    "            stationary_count += 1\n",
    "            do_coint = False\n",
    "\n",
    "        if do_coint:\n",
    "            with warnings.catch_warnings():\n",
    "                warnings.simplefilter(\"ignore\")\n",
    "                \n",
    "                t, pval, crits = coint( nonStationary_one, nonStationary_two )\n",
    "                if pval < COINT_THRESHOLD:\n",
    "                    positive += 1\n",
    "                test_coint += 1\n",
    "    \n",
    "    # ----- result -----\n",
    "    print( \"Stationary Count: \", stationary_count )\n",
    "    print( \"Positive Rate: %d/%d (%.2f %%)\" % ( positive, test_coint, positive * 100. / test_coint) )\n",
    "    \n",
    "    return positive, test_coint, stationary_count\n",
    "\n",
    "\n",
    "def generateLine(n=N, slope=1, wscale=WSCALE):\n",
    "    w = np.random.normal(scale=wscale, size=n)\n",
    "    if slope:\n",
    "        return np.arange(0, n*slope, slope) + w\n",
    "    else:\n",
    "        return w"
   ]
  },
  {
   "cell_type": "markdown",
   "metadata": {},
   "source": [
    "### Negative Tests"
   ]
  },
  {
   "cell_type": "code",
   "execution_count": 3,
   "metadata": {},
   "outputs": [
    {
     "name": "stdout",
     "output_type": "stream",
     "text": [
      "Stationary Count:  0\n",
      "Negative Rate: 0/100 (0.00 %)\n"
     ]
    }
   ],
   "source": [
    "test_count = 100\n",
    "negative, test_coint, stationary_count = negativeTests( test_count, generateLine, generateLine )"
   ]
  },
  {
   "cell_type": "markdown",
   "metadata": {},
   "source": [
    "### Positive Tests"
   ]
  },
  {
   "cell_type": "code",
   "execution_count": 4,
   "metadata": {},
   "outputs": [
    {
     "name": "stdout",
     "output_type": "stream",
     "text": [
      "Stationary Count:  0\n",
      "Positive Rate: 100/100 (100.00 %)\n"
     ]
    }
   ],
   "source": [
    "test_count = 100\n",
    "positive, test_coint, stationary_count = positiveTests( test_count, generateLine )"
   ]
  },
  {
   "cell_type": "markdown",
   "metadata": {},
   "source": [
    "## The Non-Stationary is a Random Walk"
   ]
  },
  {
   "cell_type": "code",
   "execution_count": 5,
   "metadata": {},
   "outputs": [],
   "source": [
    "def generateRandomWalk(n=N, wscale=1):\n",
    "    x = w = np.random.normal(scale=wscale, size=n)\n",
    "    for t in range(n):\n",
    "        x[t] = x[t-1] + w[t]\n",
    "    return x"
   ]
  },
  {
   "cell_type": "markdown",
   "metadata": {},
   "source": [
    "### Negative Tests"
   ]
  },
  {
   "cell_type": "code",
   "execution_count": 6,
   "metadata": {},
   "outputs": [
    {
     "name": "stdout",
     "output_type": "stream",
     "text": [
      "Stationary Count:  2\n",
      "Negative Rate: 94/98 (95.92 %)\n"
     ]
    }
   ],
   "source": [
    "test_count = 100\n",
    "negative, test_coint, stationary_count = negativeTests( test_count, generateRandomWalk, generateRandomWalk )"
   ]
  },
  {
   "cell_type": "markdown",
   "metadata": {},
   "source": [
    "### Positive Tests"
   ]
  },
  {
   "cell_type": "code",
   "execution_count": 7,
   "metadata": {},
   "outputs": [
    {
     "name": "stdout",
     "output_type": "stream",
     "text": [
      "Stationary Count:  6\n",
      "Positive Rate: 91/95 (95.79 %)\n"
     ]
    }
   ],
   "source": [
    "test_count = 100\n",
    "positive, test_coint, stationary_count = positiveTests( test_count, generateRandomWalk )"
   ]
  },
  {
   "cell_type": "markdown",
   "metadata": {},
   "source": [
    "## The Non-Stationary is a AR(1) Process"
   ]
  },
  {
   "cell_type": "code",
   "execution_count": 8,
   "metadata": {},
   "outputs": [],
   "source": [
    "def generateAR1(rho, n=N, wscale=1):\n",
    "    # np.random.seed(seed)\n",
    "\n",
    "    y = w = np.random.normal(scale=wscale, size=n)\n",
    "    for t in range(n):\n",
    "        y[t] = rho * y[t-1] + w[t]\n",
    "    return y"
   ]
  },
  {
   "cell_type": "markdown",
   "metadata": {},
   "source": [
    "### Negative Tests"
   ]
  },
  {
   "cell_type": "code",
   "execution_count": 9,
   "metadata": {},
   "outputs": [
    {
     "name": "stdout",
     "output_type": "stream",
     "text": [
      "Stationary Count:  0\n",
      "Negative Rate: 0/100 (0.00 %)\n"
     ]
    }
   ],
   "source": [
    "test_count = 100\n",
    "negative, test_coint, stationary_count = negativeTests( test_count, generateAR1, generateAR1, rho=1.1 )"
   ]
  },
  {
   "cell_type": "markdown",
   "metadata": {},
   "source": [
    "### Positive Tests"
   ]
  },
  {
   "cell_type": "code",
   "execution_count": 10,
   "metadata": {},
   "outputs": [
    {
     "name": "stdout",
     "output_type": "stream",
     "text": [
      "Stationary Count:  0\n",
      "Positive Rate: 100/100 (100.00 %)\n"
     ]
    }
   ],
   "source": [
    "test_count = 100\n",
    "positive, test_coint, stationary_count = positiveTests( test_count, generateAR1, rho=1.2 )"
   ]
  },
  {
   "cell_type": "markdown",
   "metadata": {},
   "source": [
    "## The Non-Stationary is a MA(1) Process\n",
    "\n",
    "We know a MA(1) is stationary process. But, I like to test it anyway."
   ]
  },
  {
   "cell_type": "code",
   "execution_count": 11,
   "metadata": {},
   "outputs": [],
   "source": [
    "def generateMA(theta, n=N, mu=0, wscale=1):\n",
    "    # np.random.seed(seed)\n",
    "\n",
    "    y = w = np.random.normal(scale=wscale, size=n)\n",
    "    y[0] = mu\n",
    "    for t in range(1, n):\n",
    "        y[t] = mu + w[t] + theta * w[t-1]\n",
    "    return y"
   ]
  },
  {
   "cell_type": "markdown",
   "metadata": {},
   "source": [
    "### Negative Tests"
   ]
  },
  {
   "cell_type": "code",
   "execution_count": 12,
   "metadata": {},
   "outputs": [
    {
     "name": "stdout",
     "output_type": "stream",
     "text": [
      "Stationary Count:  100\n",
      "Negative Rate: 14/23 (60.87 %)\n"
     ]
    }
   ],
   "source": [
    "test_count = 100\n",
    "negative, test_coint, stationary_count = negativeTests( test_count, generateMA, generateMA, theta=0.9 )"
   ]
  },
  {
   "cell_type": "markdown",
   "metadata": {},
   "source": [
    "### Positive Tests"
   ]
  },
  {
   "cell_type": "code",
   "execution_count": 13,
   "metadata": {},
   "outputs": [
    {
     "name": "stdout",
     "output_type": "stream",
     "text": [
      "Stationary Count:  106\n",
      "Positive Rate: 26/31 (83.87 %)\n"
     ]
    }
   ],
   "source": [
    "test_count = 100\n",
    "positive, test_coint, stationary_count = positiveTests( test_count, generateMA, theta=0.9 )"
   ]
  },
  {
   "cell_type": "code",
   "execution_count": null,
   "metadata": {},
   "outputs": [],
   "source": []
  }
 ],
 "metadata": {
  "kernelspec": {
   "display_name": "Python 3",
   "language": "python",
   "name": "python3"
  },
  "language_info": {
   "codemirror_mode": {
    "name": "ipython",
    "version": 3
   },
   "file_extension": ".py",
   "mimetype": "text/x-python",
   "name": "python",
   "nbconvert_exporter": "python",
   "pygments_lexer": "ipython3",
   "version": "3.5.4"
  }
 },
 "nbformat": 4,
 "nbformat_minor": 2
}
