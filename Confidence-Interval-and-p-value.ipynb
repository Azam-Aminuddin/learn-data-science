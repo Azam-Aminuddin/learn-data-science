{
 "cells": [
  {
   "cell_type": "markdown",
   "metadata": {},
   "source": [
    "# Confidence Interval and p-value"
   ]
  },
  {
   "cell_type": "markdown",
   "metadata": {},
   "source": [
    "When learning about statistics, there are several basic concepts:\n",
    "- **Population**\n",
    "- **Sample**\n",
    "- **Feature/Attribute** of Population or Sample\n",
    "- **Measures** of Feature/Attribute:\n",
    "    - Mean, Min, Max\n",
    "    - Standard Deviation\n",
    "    - etc\n",
    "- Measures of Population or Sample:\n",
    "    - Size\n",
    "    - Distribution\n",
    "    - etc\n",
    "\n",
    "There are several kinds of Confidence Interval:\n",
    "- Of Mean\n",
    "- Of Standard Deviation\n",
    "- Of Correlation Coefficient\n",
    "\n",
    "To explain what is **confidence interval** and **p-value**, let's take the following scenario:\n",
    "- Size of Population is 100\n",
    "- Size of Sample is 36\n",
    "\n",
    "There are more than 1.977 x 10<sup>27</sup> ways to get a sample of 36 from population of 100.\n",
    "\n",
    "\\begin{equation*}\n",
    "{100 \\choose 36} = 1.9772046 \\times 10^{27}\n",
    "\\end{equation*}"
   ]
  },
  {
   "cell_type": "code",
   "execution_count": 1,
   "metadata": {},
   "outputs": [
    {
     "data": {
      "text/plain": [
       "DescribeResult(nobs=100, minmax=(-2.539171422768009, 2.2320962206210417), mean=0.0409125094528159, variance=0.9717607765430928, skewness=-0.009367561304507693, kurtosis=-0.5104923953341509)"
      ]
     },
     "execution_count": 1,
     "metadata": {},
     "output_type": "execute_result"
    }
   ],
   "source": [
    "import numpy as np\n",
    "import scipy.stats\n",
    "\n",
    "POPULATION_SIZE = 100\n",
    "SAMPLE_SIZE = 36\n",
    "\n",
    "population = np.random.randn( POPULATION_SIZE )\n",
    "population_describe = scipy.stats.describe( population )\n",
    "population_describe"
   ]
  },
  {
   "cell_type": "markdown",
   "metadata": {},
   "source": [
    "Now, we will draw a sample 500 times from difference confidence levels."
   ]
  },
  {
   "cell_type": "code",
   "execution_count": 2,
   "metadata": {},
   "outputs": [
    {
     "name": "stdout",
     "output_type": "stream",
     "text": [
      "----- confidence level=95% -----\n",
      "interval:  (-0.15468748508804475, 0.23651250399367657)\n",
      "in interval:  (402, 0.804)\n",
      "in interval:  (382, 0.764)\n",
      "in interval:  (378, 0.756)\n",
      "----- confidence level=99% -----\n",
      "interval:  (-0.21799309688243015, 0.29981811578806195)\n",
      "in interval:  (439, 0.878)\n",
      "in interval:  (424, 0.848)\n",
      "in interval:  (437, 0.874)\n"
     ]
    }
   ],
   "source": [
    "TEST_COUNT = 500\n",
    "    \n",
    "def TestGetSample( interval, testCount=TEST_COUNT ):\n",
    "    in_interval = 0\n",
    "    for _ in range( 0, testCount ):\n",
    "        sample = np.random.choice( population, size=SAMPLE_SIZE )\n",
    "        describe = scipy.stats.describe( sample )        \n",
    "        if interval[0] <= describe.mean <= interval[1] :\n",
    "            in_interval += 1\n",
    "    return in_interval, in_interval/testCount\n",
    "\n",
    "print( \"----- confidence level=95% -----\" )\n",
    "interval = scipy.stats.t.interval(0.95, len(population)-1, loc=np.mean(population), scale=scipy.stats.sem(population))\n",
    "print( \"interval: \", interval )\n",
    "for _ in range( 0, 3 ):\n",
    "    print( \"in interval: \", TestGetSample( interval) )\n",
    "    \n",
    "print( \"----- confidence level=99% -----\" )\n",
    "interval = scipy.stats.t.interval(0.99, len(population)-1, loc=np.mean(population), scale=scipy.stats.sem(population))\n",
    "print( \"interval: \", interval )\n",
    "for _ in range( 0, 3 ):\n",
    "    print( \"in interval: \", TestGetSample( interval) )\n",
    "    "
   ]
  },
  {
   "cell_type": "markdown",
   "metadata": {},
   "source": [
    "Here are two unlikely samples:\n",
    "- Order the population, then\n",
    "- Get top 36, or\n",
    "- Get bottom 36"
   ]
  },
  {
   "cell_type": "code",
   "execution_count": 3,
   "metadata": {},
   "outputs": [
    {
     "name": "stdout",
     "output_type": "stream",
     "text": [
      "len:  36\n",
      "mean:  -0.9817835723652686\n",
      "is in interval:  False\n"
     ]
    }
   ],
   "source": [
    "sample = np.sort( population )[:36]\n",
    "# sample = np.sort( population )[-36:]\n",
    "\n",
    "print( \"len: \", len( sample ) )\n",
    "print( \"mean: \", np.mean( sample ) )\n",
    "print( \"is in interval: \", ( interval[0] <= np.mean(sample) ) and ( np.mean(sample ) <= interval[1] ))"
   ]
  },
  {
   "cell_type": "markdown",
   "metadata": {},
   "source": [
    "### As we can see:\n",
    "\n",
    "- The wider the confidence level, the wider the interval as well.\n",
    "- The wider the interval, the more chances the drawned sample will be inside the interval.\n",
    "\n",
    "### p-value:\n",
    "\n",
    "Previously, we have:\n",
    "- Set confidence level ($\\alpha$), \n",
    "- Calculated confidence interval\n",
    "- Generated a sample, and then \n",
    "- Calculated whether this sample is inside the interval.\n",
    "    \n",
    "Now, we could:\n",
    "- Generate or have a sample\n",
    "- Calculate what confidence level ($\\alpha$) could include this sample, \n",
    "- ( 100% - $\\alpha$ ) is the **p-value** of this sample"
   ]
  },
  {
   "cell_type": "markdown",
   "metadata": {},
   "source": [
    "## Last but not Least\n",
    "\n",
    "- **confidence interval** is a measure of a population or a sample.\n",
    "- **p-value** is a measure of a sample in a context.\n",
    "    - In a difference context, a same sample could have different p-value"
   ]
  },
  {
   "cell_type": "markdown",
   "metadata": {},
   "source": [
    "## References\n",
    "\n",
    "- https://en.wikipedia.org/wiki/P-value"
   ]
  },
  {
   "cell_type": "code",
   "execution_count": null,
   "metadata": {},
   "outputs": [],
   "source": []
  }
 ],
 "metadata": {
  "kernelspec": {
   "display_name": "Python 3",
   "language": "python",
   "name": "python3"
  },
  "language_info": {
   "codemirror_mode": {
    "name": "ipython",
    "version": 3
   },
   "file_extension": ".py",
   "mimetype": "text/x-python",
   "name": "python",
   "nbconvert_exporter": "python",
   "pygments_lexer": "ipython3",
   "version": "3.5.4"
  }
 },
 "nbformat": 4,
 "nbformat_minor": 2
}
