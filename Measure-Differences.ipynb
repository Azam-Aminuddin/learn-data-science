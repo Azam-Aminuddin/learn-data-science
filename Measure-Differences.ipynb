{
 "cells": [
  {
   "cell_type": "markdown",
   "metadata": {},
   "source": [
    "# Measure Differences"
   ]
  },
  {
   "cell_type": "markdown",
   "metadata": {},
   "source": [
    "I need a procedure to measure a difference between two vectors, first from baseline/reference/known and another from implementation.\n",
    "\n",
    "Here is a sample scenario:\n",
    "1. We have one method/procedure and two modes\n",
    "1. On first mode the method produces an output in a form of vector \\[ 0.1, 0.2, 0.3, 0.4, 0.5, 0.6 ]\n",
    "1. On second mode produces an output \\[ 0.1, 0.2, 0.3, 0.4, **0.6**, 0.6 ]\n",
    "1. Performance of the method is calculated by how close the both outputs. An example in real application, the first mode is a real-data and the second is a predicted-data.\n",
    "1. Then we modify the method \n",
    "1. Now, on first mode produces an output \\[ 1, 2, 3, 4, 5, 6 ]\n",
    "1. On second mode produces an output \\[ 1, 2, 3, 4, **4**, 6 ]\n",
    "\n",
    "In 6. you might ask, why the output is different ? A possible answer is because we use a different way to represent the output.\n",
    "\n",
    "## Requirements\n",
    "- Should produce same measure if both vectors are multiplied by a scalar.\n",
    "- Should produce same measure if both vectors are added by a scalar."
   ]
  },
  {
   "cell_type": "code",
   "execution_count": 1,
   "metadata": {},
   "outputs": [
    {
     "name": "stdout",
     "output_type": "stream",
     "text": [
      "----- With Normalization -----\n",
      "scipy.spatial.distance.euclidean: 0.6810612496922059,0.6810612496922059,0.6810612496922059\n",
      "scipy.spatial.distance.correlation: 0.03865370215269248,0.03865370215269248,0.03865370215269237\n",
      "scipy.spatial.distance.cosine: 0.03865370215269248,0.03865370215269248,0.03865370215269237\n",
      "----- Without Normalization -----\n",
      "scipy.spatial.distance.euclidean: 1.4142135623730951,14.142135623730951,1.4142135623730951\n",
      "scipy.spatial.distance.correlation: 0.03865370215269237,0.03865370215269259,0.03865370215269237\n",
      "scipy.spatial.distance.cosine: 0.007669388831071378,0.0076693888310716,0.0003203812416273655\n"
     ]
    }
   ],
   "source": [
    "import numpy as np\n",
    "import scipy.spatial\n",
    "\n",
    "def GetDistance( s1, s2, f ):\n",
    "    s1x = ( s1 - s1.mean()) / s1.std()\n",
    "    s2x = ( s2 - s2.mean()) / s2.std()\n",
    "    return f( s1x, s2x )    \n",
    "\n",
    "def GetDistance_without_normalization( s1, s2, f ):\n",
    "    return f( s1, s2 )    \n",
    "\n",
    "def DoTest( s1, s2, s3, s4, s5, s6, fd ):\n",
    "    print( \"scipy.spatial.distance.euclidean: {},{},{}\".format(\n",
    "        fd( s1, s2, scipy.spatial.distance.euclidean )\n",
    "        , fd( s3, s4, scipy.spatial.distance.euclidean )\n",
    "        , fd( s5, s6, scipy.spatial.distance.euclidean ) \n",
    "        )\n",
    "    )\n",
    "\n",
    "    print( \"scipy.spatial.distance.correlation: {},{},{}\".format(\n",
    "        fd( s1, s2, scipy.spatial.distance.correlation )\n",
    "        , fd( s3, s4, scipy.spatial.distance.correlation )\n",
    "        , fd( s5, s6, scipy.spatial.distance.correlation ) \n",
    "        )\n",
    "    )\n",
    "\n",
    "    print( \"scipy.spatial.distance.cosine: {},{},{}\".format(\n",
    "        fd( s1, s2, scipy.spatial.distance.cosine )\n",
    "        , fd( s3, s4, scipy.spatial.distance.cosine )\n",
    "        , fd( s5, s6, scipy.spatial.distance.cosine ) \n",
    "        )\n",
    "    )\n",
    "        \n",
    "s1 = np.array( [1, 2, 3, 4, 5, 6 ])\n",
    "s2 = np.array( [2, 2, 3, 4, 6, 6 ])\n",
    "\n",
    "# Multiply\n",
    "s3 = s1 * 10\n",
    "s4 = s2 * 10\n",
    "\n",
    "# Addition\n",
    "s5 = s1 + 15\n",
    "s6 = s2 + 15\n",
    "\n",
    "print( \"----- With Normalization -----\")\n",
    "DoTest( s1, s2, s3, s4, s5, s6, GetDistance )\n",
    "\n",
    "print( \"----- Without Normalization -----\")\n",
    "DoTest( s1, s2, s3, s4, s5, s6, GetDistance_without_normalization )\n",
    "\n"
   ]
  },
  {
   "cell_type": "markdown",
   "metadata": {},
   "source": [
    "## Conclusion\n",
    "- Use function **scipy.spatial.distance.correlation**\n",
    "\n",
    "## References\n",
    "\n",
    "- https://docs.scipy.org/doc/scipy-0.14.0/reference/spatial.distance.html"
   ]
  },
  {
   "cell_type": "code",
   "execution_count": null,
   "metadata": {},
   "outputs": [],
   "source": []
  }
 ],
 "metadata": {
  "kernelspec": {
   "display_name": "Python 3",
   "language": "python",
   "name": "python3"
  },
  "language_info": {
   "codemirror_mode": {
    "name": "ipython",
    "version": 3
   },
   "file_extension": ".py",
   "mimetype": "text/x-python",
   "name": "python",
   "nbconvert_exporter": "python",
   "pygments_lexer": "ipython3",
   "version": "3.5.4"
  }
 },
 "nbformat": 4,
 "nbformat_minor": 2
}
