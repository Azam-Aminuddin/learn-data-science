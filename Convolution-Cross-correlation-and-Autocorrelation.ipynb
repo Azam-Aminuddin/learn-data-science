{
 "cells": [
  {
   "cell_type": "markdown",
   "metadata": {},
   "source": [
    "# Convolution, Cross-correlation and Autocorrelation\n",
    "\n",
    "How to calculate ?"
   ]
  },
  {
   "cell_type": "markdown",
   "metadata": {},
   "source": [
    "\\begin{equation*}\n",
    "(a * v)[ n ] = \\sum_{m=-\\infty}^\\infty a[ m ]v[ n-m ]\n",
    "\\end{equation*}"
   ]
  },
  {
   "cell_type": "markdown",
   "metadata": {},
   "source": [
    "a(t) = { a(1), a(2), a(3) }<br/>\n",
    "v(t) = { v(1), v(2), v(3), v(4) }<br/>\n",
    "-v(t) = { v(4), v(3), v(2), v(1) }<br/>\n",
    "\n",
    "\n",
    "| c(i) | a(1) | a(2) | a(3) |\n",
    "| --- | --- | --- | --- |\n",
    "| c(1) | = a(1)*v(1) | &nbsp;    | &nbsp;    |\n",
    "| c(2) | = a(1)*v(2) | + a(2)*v(1) | &nbsp;    |\n",
    "| c(3) | = a(1)*v(3) | + a(2)*v(2) | + a(3)*v(1) |\n",
    "| c(4) | = a(1)*v(4) | + a(2)*v(3) | + a(3)*v(2) |\n",
    "| c(5) | &nbsp;    | = a(2)*v(4) | + a(3)*v(3) |\n",
    "| c(6) | &nbsp;    | &nbsp;    | = a(3)*v(4) |"
   ]
  },
  {
   "cell_type": "markdown",
   "metadata": {},
   "source": [
    "## Cross-correlation"
   ]
  },
  {
   "cell_type": "markdown",
   "metadata": {},
   "source": [
    "\\begin{equation*}\n",
    "(a * v)[ n ] = \\sum_{m=-\\infty}^\\infty \\overline{a[ m ]}v[ m+n ]\n",
    "\\end{equation*}"
   ]
  },
  {
   "cell_type": "markdown",
   "metadata": {},
   "source": [
    "| c(i) | a(1) | a(2) | a(3) |\n",
    "| --- | --- | --- | --- |\n",
    "| c(1) | = a(1)*v(4) | &nbsp;    | &nbsp;    |\n",
    "| c(2) | = a(1)*v(3) | + a(2)*v(4) | &nbsp;    |\n",
    "| c(3) | = a(1)*v(2) | + a(2)*v(3) | + a(3)*v(4) |\n",
    "| c(4) | = a(1)*v(1) | + a(2)*v(2) | + a(3)*v(3) |\n",
    "| c(5) | &nbsp;    | = a(2)*v(1) | + a(3)*v(2) |\n",
    "| c(6) | &nbsp;    | &nbsp;    | = a(3)*v(1) |"
   ]
  },
  {
   "cell_type": "markdown",
   "metadata": {},
   "source": [
    "## Autocorrelation\n",
    "Is a Cross-correlation with a == v"
   ]
  },
  {
   "cell_type": "markdown",
   "metadata": {},
   "source": [
    "| c(i) | a(1) | a(2) | a(3) | delay |\n",
    "| --- | --- | --- | --- | --- |\n",
    "| c(1) | = a(1)*a(3) | &nbsp;    | &nbsp;    | -2 |\n",
    "| c(2) | = a(1)*a(2) | + a(2)*a(3) | &nbsp;    | -1 |\n",
    "| c(3) | = a(1)*a(1) | + a(2)*a(2) | + a(3)*a(3) | 0 |\n",
    "| c(4) | &nbsp;    | = a(2)*a(1) | + a(3)*a(2) | +1 |\n",
    "| c(5) | &nbsp;    | &nbsp;    | = a(3)*a(1) | +2 |\n",
    "\n",
    "\n",
    "| c(i) | v(1) | v(2) | v(3) | v(4) | delay |\n",
    "| --- | --- | --- | --- | --- | --- |\n",
    "| c(1) | = v(1)*v(4) | &nbsp;    | &nbsp;    |&nbsp;    | -3 |\n",
    "| c(2) | = v(1)*v(3) | + v(2)*v(4) | &nbsp;    | &nbsp;    |-2 |\n",
    "| c(3) | = v(1)*v(2) | + v(2)*v(3) | + v(3)*v(4) | &nbsp;    |-1 |\n",
    "| c(4) | = v(1)*v(1) | + v(2)*v(2) | + v(3)*v(3) | + v(4)*v(4)    |0 |\n",
    "| c(5) | &nbsp;    | = v(2)*v(1) | + v(3)*v(2) | + v(4)*v(3)    |+1 |\n",
    "| c(6) | &nbsp;    | &nbsp;    | = v(3)*v(1) | + v(4)*v(2)    |+2 |\n",
    "| c(7) | &nbsp;    | &nbsp;    | &nbsp; | = v(4)*v(1)    |+2 |"
   ]
  },
  {
   "cell_type": "markdown",
   "metadata": {},
   "source": [
    "### References\n",
    "- https://en.wikipedia.org/wiki/Convolution\n",
    "- https://en.wikipedia.org/wiki/Cross-correlation\n",
    "- https://en.wikipedia.org/wiki/Autocorrelation\n",
    "- https://docs.scipy.org/doc/numpy/reference/generated/numpy.convolve.html#numpy.convolve"
   ]
  },
  {
   "cell_type": "code",
   "execution_count": null,
   "metadata": {},
   "outputs": [],
   "source": []
  }
 ],
 "metadata": {
  "kernelspec": {
   "display_name": "Python 3",
   "language": "python",
   "name": "python3"
  },
  "language_info": {
   "codemirror_mode": {
    "name": "ipython",
    "version": 3
   },
   "file_extension": ".py",
   "mimetype": "text/x-python",
   "name": "python",
   "nbconvert_exporter": "python",
   "pygments_lexer": "ipython3",
   "version": "3.5.4"
  }
 },
 "nbformat": 4,
 "nbformat_minor": 2
}
